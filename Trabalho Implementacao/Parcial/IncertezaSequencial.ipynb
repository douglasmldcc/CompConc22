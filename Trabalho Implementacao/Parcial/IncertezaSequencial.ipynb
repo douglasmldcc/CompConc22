{
  "nbformat": 4,
  "nbformat_minor": 0,
  "metadata": {
    "colab": {
      "provenance": []
    },
    "kernelspec": {
      "name": "python3",
      "display_name": "Python 3"
    },
    "language_info": {
      "name": "python"
    }
  },
  "cells": [
    {
      "cell_type": "markdown",
      "source": [
        "Bibliotecas \n"
      ],
      "metadata": {
        "id": "5EEu4ZZgS9dG"
      }
    },
    {
      "cell_type": "code",
      "execution_count": 125,
      "metadata": {
        "id": "j0IBD-oJS5NW"
      },
      "outputs": [],
      "source": [
        "from random import seed\n",
        "from random import randint\n",
        "from random import SystemRandom\n",
        "import math\n",
        "import numpy as np"
      ]
    },
    {
      "cell_type": "markdown",
      "source": [
        "Função que executa a tarefa necessária "
      ],
      "metadata": {
        "id": "7CTdvZr6TCK3"
      }
    },
    {
      "cell_type": "code",
      "source": [
        "def Particula():\n",
        "  #Dado que a particula esta inicialmente no vertice 0\n",
        "  passo=0\n",
        "  i=0\n",
        "  Posicao = [False,False,False,False,False,False,False,False,False,False,False,False]\n",
        "  # Variavel condição que vai validar se o vertice foi visitado\n",
        "  condicao = all(Posicao) \n",
        "  # Loop que termina quando a condicao se faz verdadeira\n",
        "  while (condicao==False):\n",
        "  #Decide a direcao no inicio do Loop\n",
        "    dir = SystemRandom().randint(0, 1)\n",
        "  #Loop para posicao zero, caso voltar ir para ultima posicao\n",
        "    if dir==0:\n",
        "      i = (i-1)%len(Posicao)\n",
        "      Posicao[i]=True   \n",
        "  #Loop para qualquer posicao, pode ir e voltar livremente\n",
        "    else:  \n",
        "      i = (i+1)%len(Posicao)\n",
        "      Posicao[i]=True\n",
        "  #Append no Array de passos\n",
        "    passo+=1\n",
        "  #Teste se todas as posicoes foram visitadas\n",
        "    condicao = all(Posicao)\n",
        "  #Retorna o numero de passos que levaram para conclusão\n",
        "  return (passo)"
      ],
      "metadata": {
        "id": "2CkPfMwQTHDy"
      },
      "execution_count": 42,
      "outputs": []
    },
    {
      "cell_type": "markdown",
      "source": [
        "Função que vai executar o algoritmo utilizado na simulação, X vezes até a precisão desejada"
      ],
      "metadata": {
        "id": "0-8pZwFFTTho"
      }
    },
    {
      "cell_type": "code",
      "source": [
        "# Criando a função Ey, que vai armazenar o valor esperado de Y em N interações\n",
        "def Ey(N):\n",
        "  #Array que funciona com o espaço amostral de Y\n",
        "  OmegaY=[]\n",
        "  #Loop que executa a função Y N vezes\n",
        "  for n in range(N+1):\n",
        "    # Cade iteração o valor esta sendo armazenado\n",
        "    OmegaY.append(Particula())\n",
        "  return sum(OmegaY) / N"
      ],
      "metadata": {
        "id": "EdGumxGPTcjb"
      },
      "execution_count": null,
      "outputs": []
    },
    {
      "cell_type": "code",
      "source": [
        "Ey(5000)"
      ],
      "metadata": {
        "colab": {
          "base_uri": "https://localhost:8080/"
        },
        "id": "P2FSozXPUBsQ",
        "outputId": "a194af50-9886-4361-cf75-93b0a14bf9e8"
      },
      "execution_count": null,
      "outputs": [
        {
          "output_type": "execute_result",
          "data": {
            "text/plain": [
              "66.7964"
            ]
          },
          "metadata": {},
          "execution_count": 6
        }
      ]
    },
    {
      "cell_type": "code",
      "source": [
        "def Compara(a,b,casas):\n",
        "  erro=pow(10,casas*(-1))\n",
        "  if(abs(a-b)<erro):\n",
        "    val = 1\n",
        "    print(\"Precisão alcançada  \",erro,\" > \",abs(a-b))\n",
        "    return val\n",
        "  else:\n",
        "    val = 0\n",
        "    print(abs(a-b),\" > \",erro)\n",
        "    return val"
      ],
      "metadata": {
        "id": "QMBbCmPlfXqo"
      },
      "execution_count": 103,
      "outputs": []
    },
    {
      "cell_type": "code",
      "source": [
        "def Simulacao2(N):\n",
        "  #Espaço amostral das simulações\n",
        "  ValorEsp=0\n",
        "  #Loop que executa a função Y N vezes\n",
        "  for n in range(N+1):\n",
        "    #Cada iteração o valor esta sendo armazenado\n",
        "    ValorEsp+=Particula()\n",
        "  return ValorEsp / N"
      ],
      "metadata": {
        "id": "jJy8yzRRolc0"
      },
      "execution_count": 148,
      "outputs": []
    },
    {
      "cell_type": "code",
      "source": [
        "Simulacao2(5000)\n"
      ],
      "metadata": {
        "colab": {
          "base_uri": "https://localhost:8080/"
        },
        "id": "WtcYwPAUWDkj",
        "outputId": "e8231e6e-3f29-4e81-e130-5d7b4cd08191"
      },
      "execution_count": 109,
      "outputs": [
        {
          "output_type": "execute_result",
          "data": {
            "text/plain": [
              "66.2602"
            ]
          },
          "metadata": {},
          "execution_count": 109
        }
      ]
    },
    {
      "cell_type": "code",
      "source": [
        "def SimulacaoComErro(Ni,casas):\n",
        "  validar=0\n",
        "  while validar < 1:\n",
        "    print(\"Começou\")\n",
        "    print(Ni)\n",
        "    A = Simulacao2(Ni)\n",
        "    B = Simulacao2(Ni)\n",
        "    print(round(A,4),\"-\",round(B,4))\n",
        "    validar += Compara(round(A,4),round(B,4),casas)\n",
        "    Ni+=5000\n"
      ],
      "metadata": {
        "id": "RBQgwoKOnEW5"
      },
      "execution_count": 149,
      "outputs": []
    },
    {
      "cell_type": "code",
      "source": [
        "SimulacaoComErro(5000,1)"
      ],
      "metadata": {
        "colab": {
          "base_uri": "https://localhost:8080/"
        },
        "id": "wOkX93YsyCW9",
        "outputId": "1d4358c2-2c3a-4de1-e6e1-03f2edc7dd88"
      },
      "execution_count": 155,
      "outputs": [
        {
          "output_type": "stream",
          "name": "stdout",
          "text": [
            "Começou\n",
            "5000\n",
            "66.2852 - 67.1292\n",
            "0.8439999999999941  >  0.1\n",
            "Começou\n",
            "10000\n",
            "67.4484 - 67.1233\n",
            "0.32510000000000616  >  0.1\n",
            "Começou\n",
            "15000\n",
            "67.867 - 67.0859\n",
            "0.7811000000000092  >  0.1\n",
            "Começou\n",
            "20000\n",
            "66.7 - 66.6727\n",
            "Precisão alcançada   0.1  >  0.02729999999999677\n"
          ]
        }
      ]
    }
  ]
}